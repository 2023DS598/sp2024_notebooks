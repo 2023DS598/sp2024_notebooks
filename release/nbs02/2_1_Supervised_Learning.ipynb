{
 "cells": [
  {
   "cell_type": "markdown",
   "metadata": {},
   "source": [
    "Before you turn this notebook in, make sure everything runs as expected. First, **restart the kernel** (in the menubar, select Kernel $\\rightarrow$ Restart) and then **run all cells** (in the menubar, select Cell $\\rightarrow$ Run All).\n",
    "\n",
    "Make sure you fill in any place that says `YOUR CODE HERE` or \"YOUR ANSWER HERE\", as well as your name below:"
   ]
  },
  {
   "cell_type": "code",
   "execution_count": null,
   "metadata": {},
   "outputs": [],
   "source": [
    "NAME = \"\""
   ]
  },
  {
   "cell_type": "markdown",
   "metadata": {},
   "source": [
    "_Understanding Deep Learning_"
   ]
  },
  {
   "cell_type": "markdown",
   "metadata": {},
   "source": [
    "---"
   ]
  },
  {
   "cell_type": "markdown",
   "metadata": {
    "colab_type": "text",
    "id": "view-in-github"
   },
   "source": [
    "<a href=\"https://colab.research.google.com/github/DL4DS/sp2024_notebooks/blob/main/release/2_1_Supervised_Learning.ipynb\" target=\"_blank\"><img src=\"https://colab.research.google.com/assets/colab-badge.svg\" alt=\"Open In Colab\"/></a>"
   ]
  },
  {
   "cell_type": "markdown",
   "metadata": {
    "deletable": false,
    "editable": false,
    "id": "sfB2oX2RNvuF",
    "nbgrader": {
     "cell_type": "markdown",
     "checksum": "f7b5a0aff253fd248fc4ad4eae64e14c",
     "grade": false,
     "grade_id": "cell-7c6b7a439bcfe33b",
     "locked": true,
     "schema_version": 3,
     "solution": false,
     "task": false
    }
   },
   "source": [
    "# Notebook 2.1 Supervised Learning\n",
    "\n",
    "The purpose of this notebook is to explore the linear regression model discussed in Chapter 2 of the book.\n",
    "\n",
    "Work through the cells below, running each cell in turn. In various places you will see the words \"YOUR CODE HERE\".\n",
    "Follow the instructions at these places and write code to complete the functions. There are also questions interspersed\n",
    "in the text. Put your answer where it says \"YOUR ANSWER HERE\"."
   ]
  },
  {
   "cell_type": "code",
   "execution_count": null,
   "metadata": {
    "deletable": false,
    "editable": false,
    "id": "uoYl2Gn3Nr52",
    "nbgrader": {
     "cell_type": "code",
     "checksum": "fe6847ad18e12a3202d430a8ea0f7316",
     "grade": false,
     "grade_id": "cell-aabe382f460390e1",
     "locked": true,
     "schema_version": 3,
     "solution": false,
     "task": false
    }
   },
   "outputs": [],
   "source": [
    "# Math library\n",
    "import numpy as np\n",
    "import math\n",
    "# Plotting library\n",
    "import matplotlib.pyplot as plt"
   ]
  },
  {
   "cell_type": "code",
   "execution_count": null,
   "metadata": {
    "deletable": false,
    "editable": false,
    "id": "MUbTD4znORtd",
    "nbgrader": {
     "cell_type": "code",
     "checksum": "096fc464535186013d6d6943e7d6eb87",
     "grade": false,
     "grade_id": "cell-1146fedccdc7d994",
     "locked": true,
     "schema_version": 3,
     "solution": false,
     "task": false
    }
   },
   "outputs": [],
   "source": [
    "# Create some input / output data\n",
    "x = np.array([0.03, 0.19, 0.34, 0.46, 0.78, 0.81, 1.08, 1.18, 1.39, 1.60, 1.65, 1.90])\n",
    "y = np.array([0.67, 0.85, 1.05, 1.0, 1.40, 1.5, 1.3, 1.54, 1.55, 1.68, 1.73, 1.6 ])\n",
    "\n",
    "print(x)\n",
    "print(y)"
   ]
  },
  {
   "cell_type": "code",
   "execution_count": null,
   "metadata": {
    "deletable": false,
    "id": "lw2dCRHwSW9a",
    "nbgrader": {
     "cell_type": "code",
     "checksum": "dbd99cb6ee243a1e567b0dacdb19947f",
     "grade": false,
     "grade_id": "cell-aeb464eca8ca783a",
     "locked": false,
     "schema_version": 3,
     "solution": true,
     "task": false
    }
   },
   "outputs": [],
   "source": [
    "# Define 1D linear regression model\n",
    "def f(x, phi0, phi1):\n",
    "  # Implement the linear regression model (eq 2.4)\n",
    "\n",
    "  # YOUR CODE HERE\n",
    "  raise NotImplementedError()\n",
    "\n",
    "  return y"
   ]
  },
  {
   "cell_type": "code",
   "execution_count": null,
   "metadata": {
    "deletable": false,
    "editable": false,
    "nbgrader": {
     "cell_type": "code",
     "checksum": "4d9401e3d7341ffaee65a9884cd7f440",
     "grade": true,
     "grade_id": "cell-39048e1a2417bc33",
     "locked": true,
     "points": 2,
     "schema_version": 3,
     "solution": false,
     "task": false
    }
   },
   "outputs": [],
   "source": [
    "f(0.3, 0.5, 0.5) == 0.65"
   ]
  },
  {
   "cell_type": "code",
   "execution_count": null,
   "metadata": {
    "deletable": false,
    "editable": false,
    "id": "VT4F3xxSOt8C",
    "nbgrader": {
     "cell_type": "code",
     "checksum": "ec93a9216cb692621609f63a720091bd",
     "grade": false,
     "grade_id": "cell-fd2f2f07377cef4b",
     "locked": true,
     "schema_version": 3,
     "solution": false,
     "task": false
    }
   },
   "outputs": [],
   "source": [
    "# Function to help plot the data\n",
    "def plot(x, y, phi0, phi1):\n",
    "    fig,ax = plt.subplots()\n",
    "    ax.scatter(x,y)\n",
    "    plt.xlim([0,2.0])\n",
    "    plt.ylim([0,2.0])\n",
    "    ax.set_xlabel('Input, $x$')\n",
    "    ax.set_ylabel('Output, $y$')\n",
    "    # Draw line\n",
    "    x_line = np.arange(0,2,0.01)\n",
    "    y_line = f(x_line, phi0, phi1)\n",
    "    plt.plot(x_line, y_line,'b-',lw=2)\n",
    "\n",
    "    plt.show()"
   ]
  },
  {
   "cell_type": "code",
   "execution_count": null,
   "metadata": {
    "id": "AkdZdmhHWuVR"
   },
   "outputs": [],
   "source": [
    "# Set the intercept and slope as in figure 2.2b\n",
    "phi0 = 0.4 ; phi1 = 0.2\n",
    "# Plot the data and the model\n",
    "plot(x,y,phi0,phi1)"
   ]
  },
  {
   "cell_type": "code",
   "execution_count": null,
   "metadata": {
    "deletable": false,
    "id": "1-GW218wX44b",
    "nbgrader": {
     "cell_type": "code",
     "checksum": "d6e68de1e4f29e1c651da4739273eee1",
     "grade": false,
     "grade_id": "cell-f0a20716861fb74f",
     "locked": false,
     "schema_version": 3,
     "solution": true,
     "task": false
    }
   },
   "outputs": [],
   "source": [
    "# Function to calculate the loss\n",
    "def compute_loss(x,y,phi0,phi1):\n",
    "\n",
    "  # Implement the loss calculation (equation 2.5)\n",
    "\n",
    "  # YOUR CODE HERE\n",
    "  raise NotImplementedError()\n",
    "\n",
    "  return loss"
   ]
  },
  {
   "cell_type": "code",
   "execution_count": null,
   "metadata": {
    "deletable": false,
    "editable": false,
    "id": "Hgw7_GzBZ8tX",
    "nbgrader": {
     "cell_type": "code",
     "checksum": "35f1b4f0b0b3e72039ba82963939dd99",
     "grade": false,
     "grade_id": "cell-970f2ecdc29d08df",
     "locked": true,
     "schema_version": 3,
     "solution": false,
     "task": false
    }
   },
   "outputs": [],
   "source": [
    "# Compute the loss for our current model\n",
    "loss = compute_loss(x,y,phi0,phi1)\n",
    "print(f'Your Loss = {loss:3.2f}, Ground truth =7.07')"
   ]
  },
  {
   "cell_type": "code",
   "execution_count": null,
   "metadata": {
    "deletable": false,
    "editable": false,
    "nbgrader": {
     "cell_type": "code",
     "checksum": "bbc0bd8eef75904e700ef8997cbc8695",
     "grade": true,
     "grade_id": "cell-8fe40058419d1f31",
     "locked": true,
     "points": 2,
     "schema_version": 3,
     "solution": false,
     "task": false
    }
   },
   "outputs": [],
   "source": [
    "assert math.isclose(loss, 7.07, rel_tol=1e-2), \"Your loss function is not correct\""
   ]
  },
  {
   "cell_type": "code",
   "execution_count": null,
   "metadata": {
    "id": "_vZS28-FahGP"
   },
   "outputs": [],
   "source": [
    "# Let's set the intercept and slope as in figure 2.2c\n",
    "phi0 = 1.60 ; phi1 =-0.8\n",
    "# Plot the data and the model\n",
    "plot(x,y,phi0,phi1)\n",
    "loss = compute_loss(x,y,phi0,phi1)\n",
    "print(f'Your Loss = {loss:3.2f}, Ground truth =10.28')"
   ]
  },
  {
   "cell_type": "markdown",
   "metadata": {
    "deletable": false,
    "editable": false,
    "nbgrader": {
     "cell_type": "markdown",
     "checksum": "b75f43bc15cb2f4cd9ba5b2b648ebd1a",
     "grade": false,
     "grade_id": "cell-e610487d30444eda",
     "locked": true,
     "schema_version": 3,
     "solution": false,
     "task": false
    }
   },
   "source": [
    "### Problem\n",
    "\n",
    "Change the parameters below manually to fit the model.\n",
    "\n",
    "1. First fix phi1 and try changing phi0 until you can't make the loss go down any more\n",
    "2. Then fix phi0 and try changing phi1 until you can't make the loss go down any more\n",
    "3. Repeat this process until you find a set of parameters that fit the model as in figure 2.2d\n",
    "\n",
    "Leave your final values in the cell below."
   ]
  },
  {
   "cell_type": "code",
   "execution_count": null,
   "metadata": {},
   "outputs": [],
   "source": [
    "phi0 = 1.60 ; phi1 =-0.8    # initial values. leave as is."
   ]
  },
  {
   "cell_type": "code",
   "execution_count": null,
   "metadata": {
    "deletable": false,
    "id": "VzpnzdW5d9vj",
    "nbgrader": {
     "cell_type": "code",
     "checksum": "ee004d5ab09c0320a2fafe4c8effe474",
     "grade": true,
     "grade_id": "cell-08d220f4732ea845",
     "locked": false,
     "points": 3,
     "schema_version": 3,
     "solution": true,
     "task": false
    }
   },
   "outputs": [],
   "source": [
    "# assign phi0 and phi1 below\n",
    "\n",
    "# YOUR CODE HERE\n",
    "raise NotImplementedError()\n"
   ]
  },
  {
   "cell_type": "code",
   "execution_count": null,
   "metadata": {},
   "outputs": [],
   "source": [
    "plot(x,y,phi0,phi1)\n",
    "print(f'Your Loss = {compute_loss(x,y,phi0,phi1):3.2f}')"
   ]
  },
  {
   "cell_type": "markdown",
   "metadata": {
    "id": "MNC4qEZognEe"
   },
   "source": [
    "# Visualizing the loss function\n",
    "\n",
    "The above process is equivalent to to descending coordinate wise on the loss function<br>\n",
    "\n",
    "Now let's plot that function."
   ]
  },
  {
   "cell_type": "code",
   "execution_count": null,
   "metadata": {
    "id": "ATrU8sqqg2hJ"
   },
   "outputs": [],
   "source": [
    "# Make a 2D grid of possible phi0 and phi1 values\n",
    "phi0_mesh, phi1_mesh = np.meshgrid(np.arange(0.0,2.0,0.02), np.arange(-1.0,1.0,0.02))\n",
    "\n",
    "# Make a 2D array for the losses\n",
    "all_losses = np.zeros_like(phi1_mesh)\n",
    "# Run through each 2D combination of phi0, phi1 and compute loss\n",
    "for indices,temp in np.ndenumerate(phi1_mesh):\n",
    "    all_losses[indices] = compute_loss(x,y, phi0_mesh[indices], phi1_mesh[indices])\n"
   ]
  },
  {
   "cell_type": "code",
   "execution_count": null,
   "metadata": {
    "id": "6OXAjx5xfQkl"
   },
   "outputs": [],
   "source": [
    "# Plot the loss function as a heatmap\n",
    "fig = plt.figure()\n",
    "ax = plt.axes()\n",
    "fig.set_size_inches(7,7)\n",
    "levels = 256\n",
    "ax.contourf(phi0_mesh, phi1_mesh, all_losses ,levels)\n",
    "levels = 40\n",
    "ax.contour(phi0_mesh, phi1_mesh, all_losses ,levels, colors=['#80808080'])\n",
    "ax.set_ylim([1,-1])\n",
    "ax.set_xlabel('Intercept, $\\phi_0$')\n",
    "ax.set_ylabel('Slope, $\\phi_1$')\n",
    "\n",
    "# Plot the position of your best fitting line on the loss function\n",
    "# It should be close to the minimum\n",
    "ax.plot(phi0,phi1,'ro')\n",
    "plt.show()"
   ]
  }
 ],
 "metadata": {
  "colab": {
   "authorship_tag": "ABX9TyOmndC0N7dFV7W3Mh5ljOLl",
   "include_colab_link": true,
   "provenance": []
  },
  "kernelspec": {
   "display_name": "Python 3 (ipykernel)",
   "language": "python",
   "name": "python3"
  },
  "language_info": {
   "codemirror_mode": {
    "name": "ipython",
    "version": 3
   },
   "file_extension": ".py",
   "mimetype": "text/x-python",
   "name": "python",
   "nbconvert_exporter": "python",
   "pygments_lexer": "ipython3",
   "version": "3.11.5"
  }
 },
 "nbformat": 4,
 "nbformat_minor": 4
}
